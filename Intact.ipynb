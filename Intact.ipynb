{
 "cells": [
  {
   "cell_type": "code",
   "execution_count": 3,
   "metadata": {},
   "outputs": [],
   "source": [
    "import pandas as pd\n",
    "import numpy as np\n",
    "\n",
    "train = pd.read_csv('training_data_small.csv')"
   ]
  },
  {
   "cell_type": "code",
   "execution_count": 4,
   "metadata": {},
   "outputs": [],
   "source": [
    "data_numeric = train.select_dtypes(include='number')\n",
    "data_notnumeric =  train.select_dtypes(include='object')\n",
    "#data_complete = train.dropna()"
   ]
  },
  {
   "cell_type": "code",
   "execution_count": 5,
   "metadata": {},
   "outputs": [
    {
     "name": "stdout",
     "output_type": "stream",
     "text": [
      "Categorical features are\n",
      "Index(['GENDER', 'DRIVER_MARTIAL_STATUS', 'DRIVER_TRAINING_IND'], dtype='object')\n"
     ]
    }
   ],
   "source": [
    "print('Categorical features are')\n",
    "print(data_notnumeric.columns)"
   ]
  },
  {
   "cell_type": "code",
   "execution_count": 6,
   "metadata": {},
   "outputs": [
    {
     "data": {
      "text/plain": [
       "DRIVER_TRAINING_IND      3\n",
       "DRIVER_MARTIAL_STATUS    3\n",
       "GENDER                   3\n",
       "dtype: int64"
      ]
     },
     "execution_count": 6,
     "metadata": {},
     "output_type": "execute_result"
    }
   ],
   "source": [
    "#Discovering the number of distinct values in caegorical columns\n",
    "#data_notnumeric.apply(pd.Series.nunique)\n",
    "state_counts = data_notnumeric.apply(lambda x: len(x.unique()))\n",
    "state_counts.sort_values(ascending=False)"
   ]
  },
  {
   "cell_type": "code",
   "execution_count": 7,
   "metadata": {},
   "outputs": [
    {
     "name": "stdout",
     "output_type": "stream",
     "text": [
      "{'GENDER': array(['F', 'M', nan], dtype=object), 'DRIVER_MARTIAL_STATUS': array(['S', 'M', nan], dtype=object), 'DRIVER_TRAINING_IND': array(['N', nan, 'Y'], dtype=object)}\n"
     ]
    }
   ],
   "source": [
    "#Using a dictionary to list the different values of each columns\n",
    "d = {}\n",
    "for x in data_notnumeric.columns:\n",
    "    d[x] = data_notnumeric[x].unique()\n",
    "\n",
    "print(d)"
   ]
  },
  {
   "cell_type": "code",
   "execution_count": 8,
   "metadata": {},
   "outputs": [],
   "source": [
    "y1 = train['INCURRED_LOSS_COLLISION']\n",
    "y2 = train['INCURRED_LOSS_DCPD']\n",
    "y3 = train['INCURRED_LOSS_COMPREHENSIVE']\n",
    "X = train.drop(['INCURRED_LOSS_COLLISION', 'INCURRED_LOSS_DCPD','INCURRED_LOSS_COMPREHENSIVE'], axis=1).select_dtypes(exclude=['object'])\n"
   ]
  },
  {
   "cell_type": "code",
   "execution_count": 9,
   "metadata": {},
   "outputs": [],
   "source": [
    "X_numeric = X.select_dtypes(include='number')"
   ]
  },
  {
   "cell_type": "code",
   "execution_count": 34,
   "metadata": {},
   "outputs": [],
   "source": [
    "from sklearn.tree import DecisionTreeRegressor\n",
    "from sklearn.ensemble import RandomForestRegressor\n",
    "from sklearn.model_selection import train_test_split\n",
    "from sklearn.preprocessing import Imputer\n",
    "from sklearn.metrics import mean_absolute_error"
   ]
  },
  {
   "cell_type": "code",
   "execution_count": 11,
   "metadata": {},
   "outputs": [],
   "source": [
    "my_imputer = Imputer()\n",
    "Imp_X_numeric = pd.DataFrame(my_imputer.fit_transform(X_numeric))"
   ]
  },
  {
   "cell_type": "code",
   "execution_count": 35,
   "metadata": {},
   "outputs": [],
   "source": [
    "\n",
    "train_X, test_X, train_y1, test_y1 = train_test_split(Imp_X_numeric, y1, test_size=0.25)"
   ]
  },
  {
   "cell_type": "code",
   "execution_count": 13,
   "metadata": {},
   "outputs": [],
   "source": [
    "def get_mae(max_leaf_nodes, train_X, test_X, train_y1, test_y1):\n",
    "    model = DecisionTreeRegressor(max_leaf_nodes=max_leaf_nodes, random_state=0)\n",
    "    model.fit(train_X, train_y1)\n",
    "    preds_val = model.predict(test_X)\n",
    "    mae = mean_absolute_error(test_y1, preds_val)\n",
    "    return(mae)"
   ]
  },
  {
   "cell_type": "code",
   "execution_count": 14,
   "metadata": {},
   "outputs": [
    {
     "data": {
      "text/plain": [
       "<matplotlib.figure.Figure at 0x7fe9be030710>"
      ]
     },
     "metadata": {},
     "output_type": "display_data"
    }
   ],
   "source": [
    "import pylab\n",
    "import numpy\n",
    "\n",
    "x = numpy.arange(100, 1000, 10)\n",
    "y = []\n",
    "for i in x:\n",
    "    y += [get_mae(i,train_X,test_X,train_y1,test_y1)]\n",
    "\n",
    "# compose plot\n",
    "pylab.plot(x,y) \n",
    "pylab.show() # show the plot"
   ]
  },
  {
   "cell_type": "code",
   "execution_count": 15,
   "metadata": {},
   "outputs": [
    {
     "data": {
      "text/plain": [
       "[<matplotlib.lines.Line2D at 0x7fea2ce0aa20>]"
      ]
     },
     "execution_count": 15,
     "metadata": {},
     "output_type": "execute_result"
    },
    {
     "data": {
      "image/png": "[encoded data removed]",
      "text/plain": [
       "<matplotlib.figure.Figure at 0x7fe9be030630>"
      ]
     },
     "metadata": {},
     "output_type": "display_data"
    }
   ],
   "source": [
    "x = numpy.arange(100, 300, 10)\n",
    "y = []\n",
    "for i in x:\n",
    "    y += [get_mae(i,train_X,test_X,train_y1,test_y1)]\n",
    "\n",
    "# compose plot\n",
    "pylab.plot(x,y) \n",
    "#pylab.show() # show the plot"
   ]
  },
  {
   "cell_type": "code",
   "execution_count": 16,
   "metadata": {},
   "outputs": [
    {
     "data": {
      "image/png": "[encoded data removed]",
      "text/plain": [
       "<matplotlib.figure.Figure at 0x7fe9cac95780>"
      ]
     },
     "metadata": {},
     "output_type": "display_data"
    }
   ],
   "source": [
    "x = numpy.arange(200, 225, 1)\n",
    "y = []\n",
    "for i in x:\n",
    "    y += [get_mae(i,train_X,test_X,train_y1,test_y1)]\n",
    "\n",
    "# compose plot\n",
    "pylab.plot(x,y) \n",
    "pylab.show() # show the plot"
   ]
  },
  {
   "cell_type": "code",
   "execution_count": 17,
   "metadata": {},
   "outputs": [
    {
     "data": {
      "text/plain": [
       "1568.5478478164914"
      ]
     },
     "execution_count": 17,
     "metadata": {},
     "output_type": "execute_result"
    }
   ],
   "source": [
    "#seems that best is at 208\n",
    "get_mae(208,train_X,test_X,train_y1,test_y1)"
   ]
  },
  {
   "cell_type": "code",
   "execution_count": 18,
   "metadata": {},
   "outputs": [
    {
     "data": {
      "text/plain": [
       "822.44893000000002"
      ]
     },
     "execution_count": 18,
     "metadata": {},
     "output_type": "execute_result"
    }
   ],
   "source": [
    "y1.mean() #This means the mae is verrrrryyy bad"
   ]
  },
  {
   "cell_type": "code",
   "execution_count": 19,
   "metadata": {},
   "outputs": [
    {
     "name": "stdout",
     "output_type": "stream",
     "text": [
      "1786.274012\n"
     ]
    }
   ],
   "source": [
    "forest_model = RandomForestRegressor(random_state=1)\n",
    "forest_model.fit(train_X, train_y1)\n",
    "forest_preds = forest_model.predict(test_X)\n",
    "print(mean_absolute_error(test_y1, forest_preds))"
   ]
  },
  {
   "cell_type": "code",
   "execution_count": 20,
   "metadata": {},
   "outputs": [
    {
     "data": {
      "text/plain": [
       "Index(['LATITUDE', 'LONGITUDE', 'AGE', 'YEARS_WITH_COMPANY',\n",
       "       'ANNUAL_KILOMETERS', 'DAILY_KILOMETERS', 'YEARS_LICENSED',\n",
       "       'VEHICLE_YEAR', 'NUMBER_OF_DRIVERS', 'NUMBER_OF_VEHICLES',\n",
       "       'PRIOR_COMPANY', 'DEDUCTIBLE_COLLISION', 'DEDUCTIBLE_COMPREHENSIVE',\n",
       "       'DEDUCTIBLE_DCPD', 'PAYMENT_METHOD', 'AT_FAULT_CLAIMS',\n",
       "       'NOT_AT_FAULT_CLAIMS', 'MINOR_CONVICTIONS', 'MAJOR_CONVICTIONS',\n",
       "       'SERIOUS_CONVICTIONS', 'DRIVING_EXPERIENCE', 'YEARS_WITH_PRIOR_COMPANY',\n",
       "       'INCURRED_LOSS_COLLISION', 'INCURRED_LOSS_COMPREHENSIVE',\n",
       "       'INCURRED_LOSS_DCPD', 'GENDER', 'DRIVER_MARTIAL_STATUS',\n",
       "       'DRIVER_TRAINING_IND', 'VEHICLE_AGE', 'YEARS_SINCE_AT_FAULT_CLAIM',\n",
       "       'YEARS_SINCE_NOT_AT_FAULT_CLAIM', 'YEARS_SINCE_MINOR_CONVICTION',\n",
       "       'YEARS_SINCE_MAJOR_CONVICTION', 'YEARS_SINCE_SERIOUS_CONVICTION'],\n",
       "      dtype='object')"
      ]
     },
     "execution_count": 20,
     "metadata": {},
     "output_type": "execute_result"
    }
   ],
   "source": [
    "train.columns"
   ]
  },
  {
   "cell_type": "code",
   "execution_count": 21,
   "metadata": {},
   "outputs": [
    {
     "data": {
      "text/plain": [
       "array([[ 13379507.77042956,    -70306.18438555],\n",
       "       [   -70306.18438555,  14847383.22182232]])"
      ]
     },
     "execution_count": 21,
     "metadata": {},
     "output_type": "execute_result"
    }
   ],
   "source": [
    "np.cov(y1, y2)"
   ]
  },
  {
   "cell_type": "code",
   "execution_count": 22,
   "metadata": {},
   "outputs": [
    {
     "name": "stdout",
     "output_type": "stream",
     "text": [
      "Pearsons correlation: -0.005\n",
      "Spearmans correlation: -0.005\n"
     ]
    }
   ],
   "source": [
    "from scipy.stats import pearsonr\n",
    "from scipy.stats import spearmanr\n",
    "# calculate Pearson's correlation\n",
    "corr, _ = pearsonr(y1, y2)\n",
    "print('Pearsons correlation: %.3f' % corr)\n",
    "corr1, _ = spearmanr(y1, y2)\n",
    "print('Spearmans correlation: %.3f' % corr)"
   ]
  },
  {
   "cell_type": "code",
   "execution_count": 23,
   "metadata": {},
   "outputs": [
    {
     "name": "stdout",
     "output_type": "stream",
     "text": [
      "Pearsons correlation: -0.006\n"
     ]
    }
   ],
   "source": [
    "corr, _ = pearsonr(y1, y3)\n",
    "print('Pearsons correlation: %.3f' % corr)"
   ]
  },
  {
   "cell_type": "code",
   "execution_count": 24,
   "metadata": {},
   "outputs": [
    {
     "data": {
      "text/html": [
       "<div>\n",
       "<style scoped>\n",
       "    .dataframe tbody tr th:only-of-type {\n",
       "        vertical-align: middle;\n",
       "    }\n",
       "\n",
       "    .dataframe tbody tr th {\n",
       "        vertical-align: top;\n",
       "    }\n",
       "\n",
       "    .dataframe thead th {\n",
       "        text-align: right;\n",
       "    }\n",
       "</style>\n",
       "<table border=\"1\" class=\"dataframe\">\n",
       "  <thead>\n",
       "    <tr style=\"text-align: right;\">\n",
       "      <th></th>\n",
       "      <th>0</th>\n",
       "      <th>1</th>\n",
       "      <th>2</th>\n",
       "      <th>3</th>\n",
       "      <th>4</th>\n",
       "      <th>5</th>\n",
       "      <th>6</th>\n",
       "      <th>7</th>\n",
       "      <th>8</th>\n",
       "      <th>9</th>\n",
       "      <th>...</th>\n",
       "      <th>18</th>\n",
       "      <th>19</th>\n",
       "      <th>20</th>\n",
       "      <th>21</th>\n",
       "      <th>22</th>\n",
       "      <th>23</th>\n",
       "      <th>24</th>\n",
       "      <th>25</th>\n",
       "      <th>26</th>\n",
       "      <th>27</th>\n",
       "    </tr>\n",
       "  </thead>\n",
       "  <tbody>\n",
       "    <tr>\n",
       "      <th>0</th>\n",
       "      <td>45.628860</td>\n",
       "      <td>-82.998975</td>\n",
       "      <td>61.0</td>\n",
       "      <td>8.0</td>\n",
       "      <td>12000.0</td>\n",
       "      <td>2.0</td>\n",
       "      <td>39.0</td>\n",
       "      <td>2004.0</td>\n",
       "      <td>1.0</td>\n",
       "      <td>1.661471</td>\n",
       "      <td>...</td>\n",
       "      <td>0.0</td>\n",
       "      <td>0.000000</td>\n",
       "      <td>9.615611</td>\n",
       "      <td>6.588917</td>\n",
       "      <td>12.0</td>\n",
       "      <td>0.000000</td>\n",
       "      <td>0.000000</td>\n",
       "      <td>0.994497</td>\n",
       "      <td>1.055105</td>\n",
       "      <td>0.936097</td>\n",
       "    </tr>\n",
       "    <tr>\n",
       "      <th>1</th>\n",
       "      <td>45.936701</td>\n",
       "      <td>-79.128749</td>\n",
       "      <td>45.0</td>\n",
       "      <td>5.0</td>\n",
       "      <td>13000.0</td>\n",
       "      <td>9.0</td>\n",
       "      <td>25.0</td>\n",
       "      <td>2006.0</td>\n",
       "      <td>1.0</td>\n",
       "      <td>2.000000</td>\n",
       "      <td>...</td>\n",
       "      <td>0.0</td>\n",
       "      <td>0.000000</td>\n",
       "      <td>9.000000</td>\n",
       "      <td>7.000000</td>\n",
       "      <td>7.0</td>\n",
       "      <td>2.492812</td>\n",
       "      <td>2.510635</td>\n",
       "      <td>0.994497</td>\n",
       "      <td>1.055105</td>\n",
       "      <td>0.936097</td>\n",
       "    </tr>\n",
       "    <tr>\n",
       "      <th>2</th>\n",
       "      <td>49.569043</td>\n",
       "      <td>-82.735914</td>\n",
       "      <td>52.0</td>\n",
       "      <td>9.0</td>\n",
       "      <td>12000.0</td>\n",
       "      <td>1.0</td>\n",
       "      <td>32.0</td>\n",
       "      <td>2005.0</td>\n",
       "      <td>2.0</td>\n",
       "      <td>1.661471</td>\n",
       "      <td>...</td>\n",
       "      <td>0.0</td>\n",
       "      <td>0.006133</td>\n",
       "      <td>9.615611</td>\n",
       "      <td>6.588917</td>\n",
       "      <td>8.0</td>\n",
       "      <td>2.492812</td>\n",
       "      <td>2.000000</td>\n",
       "      <td>0.994497</td>\n",
       "      <td>1.055105</td>\n",
       "      <td>0.936097</td>\n",
       "    </tr>\n",
       "    <tr>\n",
       "      <th>3</th>\n",
       "      <td>44.014425</td>\n",
       "      <td>-77.216511</td>\n",
       "      <td>51.0</td>\n",
       "      <td>8.0</td>\n",
       "      <td>10000.0</td>\n",
       "      <td>5.0</td>\n",
       "      <td>31.0</td>\n",
       "      <td>2005.0</td>\n",
       "      <td>2.0</td>\n",
       "      <td>2.000000</td>\n",
       "      <td>...</td>\n",
       "      <td>0.0</td>\n",
       "      <td>0.000000</td>\n",
       "      <td>9.615611</td>\n",
       "      <td>6.588917</td>\n",
       "      <td>8.0</td>\n",
       "      <td>4.000000</td>\n",
       "      <td>2.510635</td>\n",
       "      <td>0.994497</td>\n",
       "      <td>1.055105</td>\n",
       "      <td>0.936097</td>\n",
       "    </tr>\n",
       "    <tr>\n",
       "      <th>4</th>\n",
       "      <td>45.687426</td>\n",
       "      <td>-77.924946</td>\n",
       "      <td>47.0</td>\n",
       "      <td>3.0</td>\n",
       "      <td>12000.0</td>\n",
       "      <td>5.0</td>\n",
       "      <td>24.0</td>\n",
       "      <td>2002.0</td>\n",
       "      <td>1.0</td>\n",
       "      <td>2.000000</td>\n",
       "      <td>...</td>\n",
       "      <td>0.0</td>\n",
       "      <td>0.000000</td>\n",
       "      <td>10.000000</td>\n",
       "      <td>5.000000</td>\n",
       "      <td>15.0</td>\n",
       "      <td>2.492812</td>\n",
       "      <td>2.510635</td>\n",
       "      <td>0.994497</td>\n",
       "      <td>1.055105</td>\n",
       "      <td>0.936097</td>\n",
       "    </tr>\n",
       "  </tbody>\n",
       "</table>\n",
       "<p>5 rows × 28 columns</p>\n",
       "</div>"
      ],
      "text/plain": [
       "          0          1     2    3        4    5     6       7    8         9   \\\n",
       "0  45.628860 -82.998975  61.0  8.0  12000.0  2.0  39.0  2004.0  1.0  1.661471   \n",
       "1  45.936701 -79.128749  45.0  5.0  13000.0  9.0  25.0  2006.0  1.0  2.000000   \n",
       "2  49.569043 -82.735914  52.0  9.0  12000.0  1.0  32.0  2005.0  2.0  1.661471   \n",
       "3  44.014425 -77.216511  51.0  8.0  10000.0  5.0  31.0  2005.0  2.0  2.000000   \n",
       "4  45.687426 -77.924946  47.0  3.0  12000.0  5.0  24.0  2002.0  1.0  2.000000   \n",
       "\n",
       "     ...      18        19         20        21    22        23        24  \\\n",
       "0    ...     0.0  0.000000   9.615611  6.588917  12.0  0.000000  0.000000   \n",
       "1    ...     0.0  0.000000   9.000000  7.000000   7.0  2.492812  2.510635   \n",
       "2    ...     0.0  0.006133   9.615611  6.588917   8.0  2.492812  2.000000   \n",
       "3    ...     0.0  0.000000   9.615611  6.588917   8.0  4.000000  2.510635   \n",
       "4    ...     0.0  0.000000  10.000000  5.000000  15.0  2.492812  2.510635   \n",
       "\n",
       "         25        26        27  \n",
       "0  0.994497  1.055105  0.936097  \n",
       "1  0.994497  1.055105  0.936097  \n",
       "2  0.994497  1.055105  0.936097  \n",
       "3  0.994497  1.055105  0.936097  \n",
       "4  0.994497  1.055105  0.936097  \n",
       "\n",
       "[5 rows x 28 columns]"
      ]
     },
     "execution_count": 24,
     "metadata": {},
     "output_type": "execute_result"
    }
   ],
   "source": [
    "Imp_X_numeric.head()"
   ]
  },
  {
   "cell_type": "code",
   "execution_count": 25,
   "metadata": {},
   "outputs": [
    {
     "data": {
      "text/html": [
       "<div>\n",
       "<style scoped>\n",
       "    .dataframe tbody tr th:only-of-type {\n",
       "        vertical-align: middle;\n",
       "    }\n",
       "\n",
       "    .dataframe tbody tr th {\n",
       "        vertical-align: top;\n",
       "    }\n",
       "\n",
       "    .dataframe thead th {\n",
       "        text-align: right;\n",
       "    }\n",
       "</style>\n",
       "<table border=\"1\" class=\"dataframe\">\n",
       "  <thead>\n",
       "    <tr style=\"text-align: right;\">\n",
       "      <th></th>\n",
       "      <th>LATITUDE</th>\n",
       "      <th>LONGITUDE</th>\n",
       "      <th>AGE</th>\n",
       "      <th>YEARS_WITH_COMPANY</th>\n",
       "      <th>ANNUAL_KILOMETERS</th>\n",
       "      <th>DAILY_KILOMETERS</th>\n",
       "      <th>YEARS_LICENSED</th>\n",
       "      <th>VEHICLE_YEAR</th>\n",
       "      <th>NUMBER_OF_DRIVERS</th>\n",
       "      <th>NUMBER_OF_VEHICLES</th>\n",
       "      <th>...</th>\n",
       "      <th>MAJOR_CONVICTIONS</th>\n",
       "      <th>SERIOUS_CONVICTIONS</th>\n",
       "      <th>DRIVING_EXPERIENCE</th>\n",
       "      <th>YEARS_WITH_PRIOR_COMPANY</th>\n",
       "      <th>VEHICLE_AGE</th>\n",
       "      <th>YEARS_SINCE_AT_FAULT_CLAIM</th>\n",
       "      <th>YEARS_SINCE_NOT_AT_FAULT_CLAIM</th>\n",
       "      <th>YEARS_SINCE_MINOR_CONVICTION</th>\n",
       "      <th>YEARS_SINCE_MAJOR_CONVICTION</th>\n",
       "      <th>YEARS_SINCE_SERIOUS_CONVICTION</th>\n",
       "    </tr>\n",
       "  </thead>\n",
       "  <tbody>\n",
       "    <tr>\n",
       "      <th>0</th>\n",
       "      <td>45.628860</td>\n",
       "      <td>-82.998975</td>\n",
       "      <td>61.0</td>\n",
       "      <td>8.0</td>\n",
       "      <td>12000.0</td>\n",
       "      <td>2.0</td>\n",
       "      <td>39.0</td>\n",
       "      <td>2004.0</td>\n",
       "      <td>1.0</td>\n",
       "      <td>NaN</td>\n",
       "      <td>...</td>\n",
       "      <td>0.0</td>\n",
       "      <td>0.0</td>\n",
       "      <td>NaN</td>\n",
       "      <td>NaN</td>\n",
       "      <td>12.0</td>\n",
       "      <td>0.0</td>\n",
       "      <td>0.0</td>\n",
       "      <td>NaN</td>\n",
       "      <td>NaN</td>\n",
       "      <td>NaN</td>\n",
       "    </tr>\n",
       "    <tr>\n",
       "      <th>1</th>\n",
       "      <td>45.936701</td>\n",
       "      <td>-79.128749</td>\n",
       "      <td>45.0</td>\n",
       "      <td>5.0</td>\n",
       "      <td>13000.0</td>\n",
       "      <td>9.0</td>\n",
       "      <td>25.0</td>\n",
       "      <td>2006.0</td>\n",
       "      <td>1.0</td>\n",
       "      <td>2.0</td>\n",
       "      <td>...</td>\n",
       "      <td>0.0</td>\n",
       "      <td>0.0</td>\n",
       "      <td>9.0</td>\n",
       "      <td>7.0</td>\n",
       "      <td>7.0</td>\n",
       "      <td>NaN</td>\n",
       "      <td>NaN</td>\n",
       "      <td>NaN</td>\n",
       "      <td>NaN</td>\n",
       "      <td>NaN</td>\n",
       "    </tr>\n",
       "    <tr>\n",
       "      <th>2</th>\n",
       "      <td>49.569043</td>\n",
       "      <td>-82.735914</td>\n",
       "      <td>52.0</td>\n",
       "      <td>9.0</td>\n",
       "      <td>12000.0</td>\n",
       "      <td>1.0</td>\n",
       "      <td>32.0</td>\n",
       "      <td>2005.0</td>\n",
       "      <td>2.0</td>\n",
       "      <td>NaN</td>\n",
       "      <td>...</td>\n",
       "      <td>0.0</td>\n",
       "      <td>NaN</td>\n",
       "      <td>NaN</td>\n",
       "      <td>NaN</td>\n",
       "      <td>8.0</td>\n",
       "      <td>NaN</td>\n",
       "      <td>2.0</td>\n",
       "      <td>NaN</td>\n",
       "      <td>NaN</td>\n",
       "      <td>NaN</td>\n",
       "    </tr>\n",
       "    <tr>\n",
       "      <th>3</th>\n",
       "      <td>44.014425</td>\n",
       "      <td>-77.216511</td>\n",
       "      <td>51.0</td>\n",
       "      <td>8.0</td>\n",
       "      <td>10000.0</td>\n",
       "      <td>5.0</td>\n",
       "      <td>31.0</td>\n",
       "      <td>2005.0</td>\n",
       "      <td>2.0</td>\n",
       "      <td>2.0</td>\n",
       "      <td>...</td>\n",
       "      <td>0.0</td>\n",
       "      <td>0.0</td>\n",
       "      <td>NaN</td>\n",
       "      <td>NaN</td>\n",
       "      <td>8.0</td>\n",
       "      <td>4.0</td>\n",
       "      <td>NaN</td>\n",
       "      <td>NaN</td>\n",
       "      <td>NaN</td>\n",
       "      <td>NaN</td>\n",
       "    </tr>\n",
       "    <tr>\n",
       "      <th>4</th>\n",
       "      <td>45.687426</td>\n",
       "      <td>-77.924946</td>\n",
       "      <td>47.0</td>\n",
       "      <td>3.0</td>\n",
       "      <td>12000.0</td>\n",
       "      <td>5.0</td>\n",
       "      <td>24.0</td>\n",
       "      <td>2002.0</td>\n",
       "      <td>1.0</td>\n",
       "      <td>2.0</td>\n",
       "      <td>...</td>\n",
       "      <td>0.0</td>\n",
       "      <td>0.0</td>\n",
       "      <td>10.0</td>\n",
       "      <td>5.0</td>\n",
       "      <td>15.0</td>\n",
       "      <td>NaN</td>\n",
       "      <td>NaN</td>\n",
       "      <td>NaN</td>\n",
       "      <td>NaN</td>\n",
       "      <td>NaN</td>\n",
       "    </tr>\n",
       "  </tbody>\n",
       "</table>\n",
       "<p>5 rows × 28 columns</p>\n",
       "</div>"
      ],
      "text/plain": [
       "    LATITUDE  LONGITUDE   AGE  YEARS_WITH_COMPANY  ANNUAL_KILOMETERS  \\\n",
       "0  45.628860 -82.998975  61.0                 8.0            12000.0   \n",
       "1  45.936701 -79.128749  45.0                 5.0            13000.0   \n",
       "2  49.569043 -82.735914  52.0                 9.0            12000.0   \n",
       "3  44.014425 -77.216511  51.0                 8.0            10000.0   \n",
       "4  45.687426 -77.924946  47.0                 3.0            12000.0   \n",
       "\n",
       "   DAILY_KILOMETERS  YEARS_LICENSED  VEHICLE_YEAR  NUMBER_OF_DRIVERS  \\\n",
       "0               2.0            39.0        2004.0                1.0   \n",
       "1               9.0            25.0        2006.0                1.0   \n",
       "2               1.0            32.0        2005.0                2.0   \n",
       "3               5.0            31.0        2005.0                2.0   \n",
       "4               5.0            24.0        2002.0                1.0   \n",
       "\n",
       "   NUMBER_OF_VEHICLES               ...                MAJOR_CONVICTIONS  \\\n",
       "0                 NaN               ...                              0.0   \n",
       "1                 2.0               ...                              0.0   \n",
       "2                 NaN               ...                              0.0   \n",
       "3                 2.0               ...                              0.0   \n",
       "4                 2.0               ...                              0.0   \n",
       "\n",
       "   SERIOUS_CONVICTIONS  DRIVING_EXPERIENCE  YEARS_WITH_PRIOR_COMPANY  \\\n",
       "0                  0.0                 NaN                       NaN   \n",
       "1                  0.0                 9.0                       7.0   \n",
       "2                  NaN                 NaN                       NaN   \n",
       "3                  0.0                 NaN                       NaN   \n",
       "4                  0.0                10.0                       5.0   \n",
       "\n",
       "   VEHICLE_AGE  YEARS_SINCE_AT_FAULT_CLAIM  YEARS_SINCE_NOT_AT_FAULT_CLAIM  \\\n",
       "0         12.0                         0.0                             0.0   \n",
       "1          7.0                         NaN                             NaN   \n",
       "2          8.0                         NaN                             2.0   \n",
       "3          8.0                         4.0                             NaN   \n",
       "4         15.0                         NaN                             NaN   \n",
       "\n",
       "   YEARS_SINCE_MINOR_CONVICTION  YEARS_SINCE_MAJOR_CONVICTION  \\\n",
       "0                           NaN                           NaN   \n",
       "1                           NaN                           NaN   \n",
       "2                           NaN                           NaN   \n",
       "3                           NaN                           NaN   \n",
       "4                           NaN                           NaN   \n",
       "\n",
       "   YEARS_SINCE_SERIOUS_CONVICTION  \n",
       "0                             NaN  \n",
       "1                             NaN  \n",
       "2                             NaN  \n",
       "3                             NaN  \n",
       "4                             NaN  \n",
       "\n",
       "[5 rows x 28 columns]"
      ]
     },
     "execution_count": 25,
     "metadata": {},
     "output_type": "execute_result"
    }
   ],
   "source": [
    "X.head()"
   ]
  },
  {
   "cell_type": "code",
   "execution_count": 26,
   "metadata": {},
   "outputs": [
    {
     "name": "stdout",
     "output_type": "stream",
     "text": [
      "0 1\n",
      "Pearson correlation: -0.574\n",
      "Spearman correlation: -0.585\n",
      "2 6\n",
      "Pearson correlation: 0.865\n",
      "Spearman correlation: 0.860\n",
      "4 5\n",
      "Pearson correlation: 0.612\n",
      "Spearman correlation: 0.559\n",
      "7 22\n",
      "Pearson correlation: -0.576\n",
      "Spearman correlation: -0.509\n"
     ]
    }
   ],
   "source": [
    "for i in range(28):\n",
    "    for j in range(28):\n",
    "        \n",
    "        corr, _ = pearsonr(Imp_X_numeric[i], Imp_X_numeric[j])\n",
    "        #print('Pearsons correlation: %.3f' % corr)\n",
    "        corr1, _ = spearmanr(Imp_X_numeric[i], Imp_X_numeric[j])\n",
    "        #print('Pearsons correlation: %.3f' % corr1)\n",
    "        if corr > 0.5 or corr < -0.5:\n",
    "            if i < j:\n",
    "                print(i,j)\n",
    "                print('Pearson correlation: %.3f' % corr)\n",
    "                print('Spearman correlation: %.3f' % corr1)\n",
    "                \n",
    "#Reveals Strong Correlation between AGE and Years Licensed ... which makes sense\n",
    "# Also good correlations: Lat and Long   Annual Km and Daily Km    Vehicle Year and  Vehicle Age   .. which also makes sense  "
   ]
  },
  {
   "cell_type": "code",
   "execution_count": 27,
   "metadata": {},
   "outputs": [],
   "source": [
    "for i in range(28):\n",
    "        \n",
    "    corr, _ = pearsonr(Imp_X_numeric[i], y2)\n",
    "      \n",
    "    corr1, _ = spearmanr(Imp_X_numeric[i], y2)\n",
    "       \n",
    "    if corr > 0.1 or corr < -0.1:\n",
    "        print('Pearson correlation: %.3f' % corr)\n",
    "        print('Spearman correlation: %.3f' % corr1)\n",
    "\n",
    "##turns out there is barely any correlation between any single feature and y1 - The Loss Collission\n",
    "##same about y2 - DCPD\n",
    "##same with y3 - Comprehensive"
   ]
  },
  {
   "cell_type": "code",
   "execution_count": 37,
   "metadata": {},
   "outputs": [],
   "source": [
    "from sklearn.linear_model import LinearRegression\n",
    "\n",
    "linreg = LinearRegression(normalize=True)\n",
    "linreg.fit(train_X,train_y1)\n",
    "y_pred = linreg.predict(test_X)"
   ]
  },
  {
   "cell_type": "code",
   "execution_count": 38,
   "metadata": {},
   "outputs": [],
   "source": [
    "linreg_mae = mean_absolute_error(test_y1, y_pred)"
   ]
  },
  {
   "cell_type": "code",
   "execution_count": 39,
   "metadata": {},
   "outputs": [
    {
     "data": {
      "text/plain": [
       "1537.6618873629843"
      ]
     },
     "execution_count": 39,
     "metadata": {},
     "output_type": "execute_result"
    }
   ],
   "source": [
    "linreg_mae"
   ]
  },
  {
   "cell_type": "code",
   "execution_count": 28,
   "metadata": {},
   "outputs": [],
   "source": [
    "from sklearn import preprocessing\n",
    "#X_scaled = preprocessing.scale(Imp_X)\n",
    "#y_scaled = preprocessing.scale (y1)"
   ]
  },
  {
   "cell_type": "code",
   "execution_count": 40,
   "metadata": {},
   "outputs": [
    {
     "data": {
      "text/plain": [
       "Lasso(alpha=0.2, copy_X=True, fit_intercept=True, max_iter=1000,\n",
       "   normalize=False, positive=False, precompute=False, random_state=None,\n",
       "   selection='cyclic', tol=0.0001, warm_start=False)"
      ]
     },
     "execution_count": 40,
     "metadata": {},
     "output_type": "execute_result"
    }
   ],
   "source": [
    "from sklearn import linear_model\n",
    "param_alpha= 0.2\n",
    "colnames = list (train_X)\n",
    "#y = data['SalePrice']\n",
    "#predictors = [x for x in colnames if x!='SalePrice'] \n",
    "lassoreg = linear_model.Lasso(alpha = param_alpha)\n",
    "lassoreg.fit(train_X, train_y1)"
   ]
  },
  {
   "cell_type": "code",
   "execution_count": 41,
   "metadata": {},
   "outputs": [
    {
     "name": "stdout",
     "output_type": "stream",
     "text": [
      "Mean Absolute Error : 1537.56732844\n"
     ]
    }
   ],
   "source": [
    "predictions_imptnt = lassoreg.predict(test_X)\n",
    "\n",
    "from sklearn.metrics import mean_absolute_error\n",
    "print(\"Mean Absolute Error : \" + str(mean_absolute_error(predictions_imptnt, test_y1)))"
   ]
  },
  {
   "cell_type": "code",
   "execution_count": null,
   "metadata": {},
   "outputs": [],
   "source": []
  }
 ],
 "metadata": {
  "kernelspec": {
   "display_name": "Python 3",
   "language": "python",
   "name": "python3"
  },
  "language_info": {
   "codemirror_mode": {
    "name": "ipython",
    "version": 3
   },
   "file_extension": ".py",
   "mimetype": "text/x-python",
   "name": "python",
   "nbconvert_exporter": "python",
   "pygments_lexer": "ipython3",
   "version": "3.6.8"
  }
 },
 "nbformat": 4,
 "nbformat_minor": 2
}
